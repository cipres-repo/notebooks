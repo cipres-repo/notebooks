{
 "cells": [
  {
   "cell_type": "markdown",
   "metadata": {},
   "source": [
    "#Cipres Quick Start with python_cipres\n",
    "This is a version of the [Cipres Quick Start Tutorial](https://www.phylo.org/restusers/docs/qs.html) that uses the python_cipres client instead of curl.  \n",
    "\n",
    "First we install the python_cipres package if it isn't already installed:"
   ]
  },
  {
   "cell_type": "code",
   "execution_count": null,
   "metadata": {
    "collapsed": true
   },
   "outputs": [],
   "source": [
    "# Support for both Python 2 and 3\n",
    "from __future__ import print_function"
   ]
  },
  {
   "cell_type": "code",
   "execution_count": null,
   "metadata": {
    "collapsed": false
   },
   "outputs": [],
   "source": [
    "!pip install python_cipres"
   ]
  },
  {
   "cell_type": "code",
   "execution_count": null,
   "metadata": {
    "collapsed": false
   },
   "outputs": [],
   "source": [
    "import python_cipres.client as CipresClient\n",
    "import requests\n",
    "import os"
   ]
  },
  {
   "cell_type": "markdown",
   "metadata": {},
   "source": [
    "If you registered an application of your own, replace appname and appid with yours.  Otherwise you can run as the \"demo\" application.\n",
    "\n",
    "You can create an application from: https://www.phylo.org/restusers/developer"
   ]
  },
  {
   "cell_type": "code",
   "execution_count": null,
   "metadata": {
    "collapsed": true
   },
   "outputs": [],
   "source": [
    "url = \"https://cipresrest.sdsc.edu/cipresrest/v1/\"\n",
    "appname = \"demo\"\n",
    "appid = \"mydemo-8126CB900A964FA1AD14174512F9403C\""
   ]
  },
  {
   "cell_type": "markdown",
   "metadata": {},
   "source": [
    "**CHANGE THIS - Fill in your own username and password:**"
   ]
  },
  {
   "cell_type": "code",
   "execution_count": null,
   "metadata": {
    "collapsed": true
   },
   "outputs": [],
   "source": [
    "username = ADD_YOUR_USERNAME_HERE\n",
    "password = ADD_YOUR_PASSWORD_HERE"
   ]
  },
  {
   "cell_type": "markdown",
   "metadata": {},
   "source": [
    "We create a CipresClient to communicate with the CIPRES REST API:"
   ]
  },
  {
   "cell_type": "code",
   "execution_count": null,
   "metadata": {
    "collapsed": false
   },
   "outputs": [],
   "source": [
    "client = CipresClient.Client(appname, appid, username, password, url)"
   ]
  },
  {
   "cell_type": "markdown",
   "metadata": {},
   "source": [
    "Here we get the demo's sample phylip file to use as input to raxml.   Python_cipres expects the input data to be in a file on disk."
   ]
  },
  {
   "cell_type": "code",
   "execution_count": null,
   "metadata": {
    "collapsed": false
   },
   "outputs": [],
   "source": [
    "inputDataUrl = \"https://www.phylo.org/restusers/docs/raxml_inputphy.txt\"\n",
    "inputData = requests.get(inputDataUrl).text;\n",
    "inputFilename = './raxml_inputphy.txt'\n",
    "fd = open(inputFilename, mode='w')\n",
    "fd.write(inputData)\n",
    "fd.close()"
   ]
  },
  {
   "cell_type": "markdown",
   "metadata": {},
   "source": [
    "Now we submit the job to Cipres and ask for email notification when the job is finished."
   ]
  },
  {
   "cell_type": "code",
   "execution_count": null,
   "metadata": {
    "collapsed": false
   },
   "outputs": [],
   "source": [
    "job = client.submitJob(\n",
    "            {'tool' : 'RAXMLHPC8_REST_XSEDE'},\n",
    "            {'input.infile_': inputFilename},\n",
    "            {'metadata.statusEmail': 'true'});"
   ]
  },
  {
   "cell_type": "markdown",
   "metadata": {},
   "source": [
    "Display status information about the job."
   ]
  },
  {
   "cell_type": "code",
   "execution_count": null,
   "metadata": {
    "collapsed": false
   },
   "outputs": [],
   "source": [
    "job.show(messages=\"true\")"
   ]
  },
  {
   "cell_type": "markdown",
   "metadata": {},
   "source": [
    "OK, the job was submitted. You can update and display the job's status as often as you like by re-running the following cell:"
   ]
  },
  {
   "cell_type": "code",
   "execution_count": null,
   "metadata": {
    "collapsed": false
   },
   "outputs": [],
   "source": [
    "job.update()\n",
    "job.show(messages=\"true\")"
   ]
  },
  {
   "cell_type": "markdown",
   "metadata": {},
   "source": [
    "This is how you would programmatically wait for the job to finish.  **Wait for the \"Job ... is finished\" output to appear before trying to do anything else:**"
   ]
  },
  {
   "cell_type": "code",
   "execution_count": null,
   "metadata": {
    "collapsed": false
   },
   "outputs": [],
   "source": [
    "job.waitForCompletion()\n",
    "print(\"Job %s finished.  isError() returns %s\" % (job.jobHandle, job.isError()))"
   ]
  },
  {
   "cell_type": "markdown",
   "metadata": {},
   "source": [
    "Now we're going to download the result files:"
   ]
  },
  {
   "cell_type": "code",
   "execution_count": null,
   "metadata": {
    "collapsed": false
   },
   "outputs": [],
   "source": [
    "downloadDir = \"./myResults\"\n",
    "try:\n",
    "    os.mkdir(downloadDir)\n",
    "except:\n",
    "    pass\n",
    "job.downloadResults(downloadDir)"
   ]
  },
  {
   "cell_type": "code",
   "execution_count": null,
   "metadata": {
    "collapsed": false
   },
   "outputs": [],
   "source": [
    "print(os.listdir(downloadDir))"
   ]
  },
  {
   "cell_type": "markdown",
   "metadata": {},
   "source": [
    "We can look at one of the results, [RAxML_bestTree.results](./myResults/RAxML_bestTree.result) as a raw newick text file.  Or, if biopython is installed, we could use it to view the tree, like this:"
   ]
  },
  {
   "cell_type": "code",
   "execution_count": null,
   "metadata": {
    "collapsed": false
   },
   "outputs": [],
   "source": [
    "from Bio import Phylo\n",
    "tree = Phylo.read(\"./myResults/RAxML_bestTree.result\", \"newick\")\n",
    "Phylo.draw_ascii(tree)"
   ]
  },
  {
   "cell_type": "markdown",
   "metadata": {},
   "source": [
    "Here's how to list your jobs:"
   ]
  },
  {
   "cell_type": "code",
   "execution_count": null,
   "metadata": {
    "collapsed": false
   },
   "outputs": [],
   "source": [
    "jobs = client.listJobs()\n",
    "for j in jobs:\n",
    "    j.show()"
   ]
  },
  {
   "cell_type": "markdown",
   "metadata": {},
   "source": [
    "Once you've downloaded a job's results you should delete the job to conserve space on CIPRES.  If you delete a job that is still running or is queued to run, it will be cancelled."
   ]
  },
  {
   "cell_type": "code",
   "execution_count": null,
   "metadata": {
    "collapsed": false
   },
   "outputs": [],
   "source": [
    "job.delete()"
   ]
  },
  {
   "cell_type": "markdown",
   "metadata": {},
   "source": [
    "You can go back and re-run the cell that lists your jobs and verify that the one you deleted is no longer in the list."
   ]
  }
 ],
 "metadata": {
  "kernelspec": {
   "display_name": "Python 3",
   "language": "python",
   "name": "python3"
  },
  "language_info": {
   "codemirror_mode": {
    "name": "ipython",
    "version": 3
   },
   "file_extension": ".py",
   "mimetype": "text/x-python",
   "name": "python",
   "nbconvert_exporter": "python",
   "pygments_lexer": "ipython3",
   "version": "3.5.1"
  }
 },
 "nbformat": 4,
 "nbformat_minor": 0
}
